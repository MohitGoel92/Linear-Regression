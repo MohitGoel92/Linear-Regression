{
 "cells": [
  {
   "cell_type": "markdown",
   "metadata": {},
   "source": [
    "# AMES Housing Data Analysis"
   ]
  },
  {
   "cell_type": "markdown",
   "metadata": {},
   "source": [
    "# Importing the libraries"
   ]
  },
  {
   "cell_type": "code",
   "execution_count": 1,
   "metadata": {},
   "outputs": [],
   "source": [
    "import pandas as pd\n",
    "import numpy as np\n",
    "import matplotlib.pyplot as plt\n",
    "import seaborn as sns\n",
    "import warnings\n",
    "from sklearn.metrics import r2_score\n",
    "warnings.filterwarnings('ignore')"
   ]
  },
  {
   "cell_type": "markdown",
   "metadata": {},
   "source": [
    "# Importing the dataset"
   ]
  },
  {
   "cell_type": "code",
   "execution_count": 2,
   "metadata": {},
   "outputs": [],
   "source": [
    "ds = pd.read_csv('Ames_Housing_Sales.csv')"
   ]
  },
  {
   "cell_type": "code",
   "execution_count": 3,
   "metadata": {},
   "outputs": [
    {
     "data": {
      "text/html": [
       "<div>\n",
       "<style scoped>\n",
       "    .dataframe tbody tr th:only-of-type {\n",
       "        vertical-align: middle;\n",
       "    }\n",
       "\n",
       "    .dataframe tbody tr th {\n",
       "        vertical-align: top;\n",
       "    }\n",
       "\n",
       "    .dataframe thead th {\n",
       "        text-align: right;\n",
       "    }\n",
       "</style>\n",
       "<table border=\"1\" class=\"dataframe\">\n",
       "  <thead>\n",
       "    <tr style=\"text-align: right;\">\n",
       "      <th></th>\n",
       "      <th>1stFlrSF</th>\n",
       "      <th>2ndFlrSF</th>\n",
       "      <th>3SsnPorch</th>\n",
       "      <th>Alley</th>\n",
       "      <th>BedroomAbvGr</th>\n",
       "      <th>BldgType</th>\n",
       "      <th>BsmtCond</th>\n",
       "      <th>BsmtExposure</th>\n",
       "      <th>BsmtFinSF1</th>\n",
       "      <th>BsmtFinSF2</th>\n",
       "      <th>...</th>\n",
       "      <th>ScreenPorch</th>\n",
       "      <th>Street</th>\n",
       "      <th>TotRmsAbvGrd</th>\n",
       "      <th>TotalBsmtSF</th>\n",
       "      <th>Utilities</th>\n",
       "      <th>WoodDeckSF</th>\n",
       "      <th>YearBuilt</th>\n",
       "      <th>YearRemodAdd</th>\n",
       "      <th>YrSold</th>\n",
       "      <th>SalePrice</th>\n",
       "    </tr>\n",
       "  </thead>\n",
       "  <tbody>\n",
       "    <tr>\n",
       "      <td>0</td>\n",
       "      <td>856.0</td>\n",
       "      <td>854.0</td>\n",
       "      <td>0.0</td>\n",
       "      <td>None</td>\n",
       "      <td>3</td>\n",
       "      <td>1Fam</td>\n",
       "      <td>TA</td>\n",
       "      <td>No</td>\n",
       "      <td>706.0</td>\n",
       "      <td>0.0</td>\n",
       "      <td>...</td>\n",
       "      <td>0.0</td>\n",
       "      <td>Pave</td>\n",
       "      <td>8</td>\n",
       "      <td>856.0</td>\n",
       "      <td>AllPub</td>\n",
       "      <td>0.0</td>\n",
       "      <td>2003</td>\n",
       "      <td>2003</td>\n",
       "      <td>2008</td>\n",
       "      <td>208500.0</td>\n",
       "    </tr>\n",
       "    <tr>\n",
       "      <td>1</td>\n",
       "      <td>1262.0</td>\n",
       "      <td>0.0</td>\n",
       "      <td>0.0</td>\n",
       "      <td>None</td>\n",
       "      <td>3</td>\n",
       "      <td>1Fam</td>\n",
       "      <td>TA</td>\n",
       "      <td>Gd</td>\n",
       "      <td>978.0</td>\n",
       "      <td>0.0</td>\n",
       "      <td>...</td>\n",
       "      <td>0.0</td>\n",
       "      <td>Pave</td>\n",
       "      <td>6</td>\n",
       "      <td>1262.0</td>\n",
       "      <td>AllPub</td>\n",
       "      <td>298.0</td>\n",
       "      <td>1976</td>\n",
       "      <td>1976</td>\n",
       "      <td>2007</td>\n",
       "      <td>181500.0</td>\n",
       "    </tr>\n",
       "    <tr>\n",
       "      <td>2</td>\n",
       "      <td>920.0</td>\n",
       "      <td>866.0</td>\n",
       "      <td>0.0</td>\n",
       "      <td>None</td>\n",
       "      <td>3</td>\n",
       "      <td>1Fam</td>\n",
       "      <td>TA</td>\n",
       "      <td>Mn</td>\n",
       "      <td>486.0</td>\n",
       "      <td>0.0</td>\n",
       "      <td>...</td>\n",
       "      <td>0.0</td>\n",
       "      <td>Pave</td>\n",
       "      <td>6</td>\n",
       "      <td>920.0</td>\n",
       "      <td>AllPub</td>\n",
       "      <td>0.0</td>\n",
       "      <td>2001</td>\n",
       "      <td>2002</td>\n",
       "      <td>2008</td>\n",
       "      <td>223500.0</td>\n",
       "    </tr>\n",
       "    <tr>\n",
       "      <td>3</td>\n",
       "      <td>961.0</td>\n",
       "      <td>756.0</td>\n",
       "      <td>0.0</td>\n",
       "      <td>None</td>\n",
       "      <td>3</td>\n",
       "      <td>1Fam</td>\n",
       "      <td>Gd</td>\n",
       "      <td>No</td>\n",
       "      <td>216.0</td>\n",
       "      <td>0.0</td>\n",
       "      <td>...</td>\n",
       "      <td>0.0</td>\n",
       "      <td>Pave</td>\n",
       "      <td>7</td>\n",
       "      <td>756.0</td>\n",
       "      <td>AllPub</td>\n",
       "      <td>0.0</td>\n",
       "      <td>1915</td>\n",
       "      <td>1970</td>\n",
       "      <td>2006</td>\n",
       "      <td>140000.0</td>\n",
       "    </tr>\n",
       "    <tr>\n",
       "      <td>4</td>\n",
       "      <td>1145.0</td>\n",
       "      <td>1053.0</td>\n",
       "      <td>0.0</td>\n",
       "      <td>None</td>\n",
       "      <td>4</td>\n",
       "      <td>1Fam</td>\n",
       "      <td>TA</td>\n",
       "      <td>Av</td>\n",
       "      <td>655.0</td>\n",
       "      <td>0.0</td>\n",
       "      <td>...</td>\n",
       "      <td>0.0</td>\n",
       "      <td>Pave</td>\n",
       "      <td>9</td>\n",
       "      <td>1145.0</td>\n",
       "      <td>AllPub</td>\n",
       "      <td>192.0</td>\n",
       "      <td>2000</td>\n",
       "      <td>2000</td>\n",
       "      <td>2008</td>\n",
       "      <td>250000.0</td>\n",
       "    </tr>\n",
       "  </tbody>\n",
       "</table>\n",
       "<p>5 rows × 80 columns</p>\n",
       "</div>"
      ],
      "text/plain": [
       "   1stFlrSF  2ndFlrSF  3SsnPorch Alley  BedroomAbvGr BldgType BsmtCond  \\\n",
       "0     856.0     854.0        0.0  None             3     1Fam       TA   \n",
       "1    1262.0       0.0        0.0  None             3     1Fam       TA   \n",
       "2     920.0     866.0        0.0  None             3     1Fam       TA   \n",
       "3     961.0     756.0        0.0  None             3     1Fam       Gd   \n",
       "4    1145.0    1053.0        0.0  None             4     1Fam       TA   \n",
       "\n",
       "  BsmtExposure  BsmtFinSF1  BsmtFinSF2  ... ScreenPorch Street  TotRmsAbvGrd  \\\n",
       "0           No       706.0         0.0  ...         0.0   Pave             8   \n",
       "1           Gd       978.0         0.0  ...         0.0   Pave             6   \n",
       "2           Mn       486.0         0.0  ...         0.0   Pave             6   \n",
       "3           No       216.0         0.0  ...         0.0   Pave             7   \n",
       "4           Av       655.0         0.0  ...         0.0   Pave             9   \n",
       "\n",
       "   TotalBsmtSF Utilities  WoodDeckSF YearBuilt YearRemodAdd YrSold SalePrice  \n",
       "0        856.0    AllPub         0.0      2003         2003   2008  208500.0  \n",
       "1       1262.0    AllPub       298.0      1976         1976   2007  181500.0  \n",
       "2        920.0    AllPub         0.0      2001         2002   2008  223500.0  \n",
       "3        756.0    AllPub         0.0      1915         1970   2006  140000.0  \n",
       "4       1145.0    AllPub       192.0      2000         2000   2008  250000.0  \n",
       "\n",
       "[5 rows x 80 columns]"
      ]
     },
     "execution_count": 3,
     "metadata": {},
     "output_type": "execute_result"
    }
   ],
   "source": [
    "ds.head()"
   ]
  },
  {
   "cell_type": "code",
   "execution_count": 4,
   "metadata": {},
   "outputs": [
    {
     "data": {
      "text/plain": [
       "(1379, 80)"
      ]
     },
     "execution_count": 4,
     "metadata": {},
     "output_type": "execute_result"
    }
   ],
   "source": [
    "ds.shape"
   ]
  },
  {
   "cell_type": "code",
   "execution_count": 5,
   "metadata": {},
   "outputs": [
    {
     "data": {
      "text/plain": [
       "80"
      ]
     },
     "execution_count": 5,
     "metadata": {},
     "output_type": "execute_result"
    }
   ],
   "source": [
    "len(ds.columns)"
   ]
  },
  {
   "cell_type": "code",
   "execution_count": 6,
   "metadata": {},
   "outputs": [],
   "source": [
    "X = ds.drop('SalePrice', axis = 1)\n",
    "y = ds['SalePrice']"
   ]
  },
  {
   "cell_type": "code",
   "execution_count": 7,
   "metadata": {},
   "outputs": [
    {
     "data": {
      "text/plain": [
       "(1379, 79)"
      ]
     },
     "execution_count": 7,
     "metadata": {},
     "output_type": "execute_result"
    }
   ],
   "source": [
    "X.shape"
   ]
  },
  {
   "cell_type": "code",
   "execution_count": 8,
   "metadata": {},
   "outputs": [
    {
     "data": {
      "text/plain": [
       "(1379,)"
      ]
     },
     "execution_count": 8,
     "metadata": {},
     "output_type": "execute_result"
    }
   ],
   "source": [
    "y.shape"
   ]
  },
  {
   "cell_type": "code",
   "execution_count": 9,
   "metadata": {},
   "outputs": [
    {
     "data": {
      "text/plain": [
       "object     43\n",
       "float64    21\n",
       "int64      16\n",
       "dtype: int64"
      ]
     },
     "execution_count": 9,
     "metadata": {},
     "output_type": "execute_result"
    }
   ],
   "source": [
    "ds.dtypes.value_counts()"
   ]
  },
  {
   "cell_type": "markdown",
   "metadata": {},
   "source": [
    "# Taking care of missing data"
   ]
  },
  {
   "cell_type": "code",
   "execution_count": 10,
   "metadata": {},
   "outputs": [
    {
     "data": {
      "text/plain": [
       "0    80\n",
       "dtype: int64"
      ]
     },
     "execution_count": 10,
     "metadata": {},
     "output_type": "execute_result"
    }
   ],
   "source": [
    "# We observe no missing data\n",
    "ds.isnull().sum().value_counts()"
   ]
  },
  {
   "cell_type": "markdown",
   "metadata": {},
   "source": [
    "# Encoding categorical data"
   ]
  },
  {
   "cell_type": "code",
   "execution_count": 11,
   "metadata": {},
   "outputs": [],
   "source": [
    "# Performing one hot encoding using pd.get_dummies\n",
    "# By default, this will convert any columns that of type object\n",
    "\n",
    "X = pd.get_dummies(X, drop_first = True)"
   ]
  },
  {
   "cell_type": "code",
   "execution_count": 12,
   "metadata": {},
   "outputs": [
    {
     "data": {
      "text/plain": [
       "(1379, 251)"
      ]
     },
     "execution_count": 12,
     "metadata": {},
     "output_type": "execute_result"
    }
   ],
   "source": [
    "X.shape"
   ]
  },
  {
   "cell_type": "markdown",
   "metadata": {},
   "source": [
    "# Feature Scaling"
   ]
  },
  {
   "cell_type": "code",
   "execution_count": 13,
   "metadata": {},
   "outputs": [],
   "source": [
    "from sklearn.preprocessing import StandardScaler\n",
    "sc_X = StandardScaler()\n",
    "X_scaled = sc_X.fit_transform(X)"
   ]
  },
  {
   "cell_type": "code",
   "execution_count": 14,
   "metadata": {},
   "outputs": [
    {
     "data": {
      "text/plain": [
       "True"
      ]
     },
     "execution_count": 14,
     "metadata": {},
     "output_type": "execute_result"
    }
   ],
   "source": [
    "# Confirm scaling\n",
    "\n",
    "X2 = np.array(X_scaled)\n",
    "manual_transform = (X2-X2.mean(axis = 0) / X2.std(axis = 0))\n",
    "np.allclose(manual_transform, X2)"
   ]
  },
  {
   "cell_type": "markdown",
   "metadata": {},
   "source": [
    "# Fitting the linear regression to the dataset"
   ]
  },
  {
   "cell_type": "code",
   "execution_count": 15,
   "metadata": {},
   "outputs": [
    {
     "data": {
      "text/html": [
       "<div>\n",
       "<style scoped>\n",
       "    .dataframe tbody tr th:only-of-type {\n",
       "        vertical-align: middle;\n",
       "    }\n",
       "\n",
       "    .dataframe tbody tr th {\n",
       "        vertical-align: top;\n",
       "    }\n",
       "\n",
       "    .dataframe thead th {\n",
       "        text-align: right;\n",
       "    }\n",
       "</style>\n",
       "<table border=\"1\" class=\"dataframe\">\n",
       "  <thead>\n",
       "    <tr style=\"text-align: right;\">\n",
       "      <th></th>\n",
       "      <th>0</th>\n",
       "      <th>1</th>\n",
       "    </tr>\n",
       "  </thead>\n",
       "  <tbody>\n",
       "    <tr>\n",
       "      <td>147</td>\n",
       "      <td>GarageQual_TA</td>\n",
       "      <td>-24549.449822</td>\n",
       "    </tr>\n",
       "    <tr>\n",
       "      <td>144</td>\n",
       "      <td>GarageQual_Fa</td>\n",
       "      <td>-21939.456460</td>\n",
       "    </tr>\n",
       "    <tr>\n",
       "      <td>171</td>\n",
       "      <td>KitchenQual_TA</td>\n",
       "      <td>-11864.500818</td>\n",
       "    </tr>\n",
       "    <tr>\n",
       "      <td>170</td>\n",
       "      <td>KitchenQual_Gd</td>\n",
       "      <td>-11524.713090</td>\n",
       "    </tr>\n",
       "    <tr>\n",
       "      <td>145</td>\n",
       "      <td>GarageQual_Gd</td>\n",
       "      <td>-11149.884887</td>\n",
       "    </tr>\n",
       "    <tr>\n",
       "      <td>...</td>\n",
       "      <td>...</td>\n",
       "      <td>...</td>\n",
       "    </tr>\n",
       "    <tr>\n",
       "      <td>28</td>\n",
       "      <td>PoolArea</td>\n",
       "      <td>26321.276440</td>\n",
       "    </tr>\n",
       "    <tr>\n",
       "      <td>229</td>\n",
       "      <td>RoofMatl_WdShake</td>\n",
       "      <td>33553.116951</td>\n",
       "    </tr>\n",
       "    <tr>\n",
       "      <td>230</td>\n",
       "      <td>RoofMatl_WdShngl</td>\n",
       "      <td>41451.642204</td>\n",
       "    </tr>\n",
       "    <tr>\n",
       "      <td>228</td>\n",
       "      <td>RoofMatl_Tar&amp;Grv</td>\n",
       "      <td>49062.795491</td>\n",
       "    </tr>\n",
       "    <tr>\n",
       "      <td>224</td>\n",
       "      <td>RoofMatl_CompShg</td>\n",
       "      <td>76668.421574</td>\n",
       "    </tr>\n",
       "  </tbody>\n",
       "</table>\n",
       "<p>251 rows × 2 columns</p>\n",
       "</div>"
      ],
      "text/plain": [
       "                    0             1\n",
       "147     GarageQual_TA -24549.449822\n",
       "144     GarageQual_Fa -21939.456460\n",
       "171    KitchenQual_TA -11864.500818\n",
       "170    KitchenQual_Gd -11524.713090\n",
       "145     GarageQual_Gd -11149.884887\n",
       "..                ...           ...\n",
       "28           PoolArea  26321.276440\n",
       "229  RoofMatl_WdShake  33553.116951\n",
       "230  RoofMatl_WdShngl  41451.642204\n",
       "228  RoofMatl_Tar&Grv  49062.795491\n",
       "224  RoofMatl_CompShg  76668.421574\n",
       "\n",
       "[251 rows x 2 columns]"
      ]
     },
     "execution_count": 15,
     "metadata": {},
     "output_type": "execute_result"
    }
   ],
   "source": [
    "from sklearn.linear_model import LinearRegression\n",
    "lr = LinearRegression()\n",
    "lr.fit(X_scaled, y)\n",
    "y_pred_lr = lr.predict(X_scaled)\n",
    "pd.DataFrame(zip(X.columns, lr.coef_)).sort_values(by=1)"
   ]
  },
  {
   "cell_type": "markdown",
   "metadata": {},
   "source": [
    "Looking just at the strength of the standardized coefficients GarageQual_TA, GarageQual_Fa, RoofMatl_Tar&Grv and RoofMatl_CompShg are all the 'most impactful'. Sklearn does not have built in statistical signifigance of each of these variables which would aid in making this claim stronger/weaker."
   ]
  },
  {
   "cell_type": "code",
   "execution_count": 17,
   "metadata": {},
   "outputs": [
    {
     "name": "stdout",
     "output_type": "stream",
     "text": [
      "Sum of coefficients: 1060631.6918750189\n",
      "Total number of coefficients: 251\n",
      "Number of coefficients not equal to 0: 251\n",
      "Linear Regression R2 score is: 0.9307954458984128\n"
     ]
    }
   ],
   "source": [
    "print('Sum of coefficients:', abs(lr.coef_).sum())\n",
    "print('Total number of coefficients:', len(lr.coef_))\n",
    "print('Number of coefficients not equal to 0:', (lr.coef_!=0).sum())\n",
    "print('Linear Regression R2 score is:', r2_score(y, y_pred_lr))"
   ]
  },
  {
   "cell_type": "code",
   "execution_count": 18,
   "metadata": {},
   "outputs": [
    {
     "data": {
      "image/png": "[encoded data removed]",
      "text/plain": [
       "<Figure size 576x432 with 1 Axes>"
      ]
     },
     "metadata": {
      "needs_background": "light"
     },
     "output_type": "display_data"
    }
   ],
   "source": [
    "f = plt.figure(figsize=(8,6))\n",
    "ax = plt.axes()\n",
    "ax.plot(y, y_pred_lr, marker='o', ls='', ms=3.0)\n",
    "lim = (0, y.max())\n",
    "ax.set(xlabel='Actual Sales Price', \n",
    "       ylabel='Predicted Sales Price', \n",
    "       xlim=lim,\n",
    "       ylim=lim,\n",
    "       title='Linear Regression Results');"
   ]
  },
  {
   "cell_type": "markdown",
   "metadata": {},
   "source": [
    "# Adding the polynomial terms to the dataset"
   ]
  },
  {
   "cell_type": "code",
   "execution_count": 19,
   "metadata": {},
   "outputs": [],
   "source": [
    "from sklearn.preprocessing import PolynomialFeatures\n",
    "pf = PolynomialFeatures(degree = 2, include_bias = False)\n",
    "X_pf = pf.fit_transform(X)"
   ]
  },
  {
   "cell_type": "code",
   "execution_count": 20,
   "metadata": {},
   "outputs": [],
   "source": [
    "sc_X = StandardScaler()\n",
    "X_pf_scaled = sc_X.fit_transform(X_pf)"
   ]
  },
  {
   "cell_type": "markdown",
   "metadata": {},
   "source": [
    "# LASSO"
   ]
  },
  {
   "cell_type": "code",
   "execution_count": 21,
   "metadata": {},
   "outputs": [
    {
     "data": {
      "text/html": [
       "<div>\n",
       "<style scoped>\n",
       "    .dataframe tbody tr th:only-of-type {\n",
       "        vertical-align: middle;\n",
       "    }\n",
       "\n",
       "    .dataframe tbody tr th {\n",
       "        vertical-align: top;\n",
       "    }\n",
       "\n",
       "    .dataframe thead th {\n",
       "        text-align: right;\n",
       "    }\n",
       "</style>\n",
       "<table border=\"1\" class=\"dataframe\">\n",
       "  <thead>\n",
       "    <tr style=\"text-align: right;\">\n",
       "      <th></th>\n",
       "      <th>0</th>\n",
       "      <th>1</th>\n",
       "    </tr>\n",
       "  </thead>\n",
       "  <tbody>\n",
       "    <tr>\n",
       "      <td>17</td>\n",
       "      <td>KitchenAbvGr</td>\n",
       "      <td>-10853.557275</td>\n",
       "    </tr>\n",
       "    <tr>\n",
       "      <td>15</td>\n",
       "      <td>GrLivArea</td>\n",
       "      <td>-7902.338000</td>\n",
       "    </tr>\n",
       "    <tr>\n",
       "      <td>3</td>\n",
       "      <td>BedroomAbvGr</td>\n",
       "      <td>-7450.047762</td>\n",
       "    </tr>\n",
       "    <tr>\n",
       "      <td>9</td>\n",
       "      <td>EnclosedPorch</td>\n",
       "      <td>-5873.875496</td>\n",
       "    </tr>\n",
       "    <tr>\n",
       "      <td>222</td>\n",
       "      <td>PoolQC_Gd</td>\n",
       "      <td>-4880.172726</td>\n",
       "    </tr>\n",
       "    <tr>\n",
       "      <td>...</td>\n",
       "      <td>...</td>\n",
       "      <td>...</td>\n",
       "    </tr>\n",
       "    <tr>\n",
       "      <td>12</td>\n",
       "      <td>GarageArea</td>\n",
       "      <td>7991.038279</td>\n",
       "    </tr>\n",
       "    <tr>\n",
       "      <td>8</td>\n",
       "      <td>BsmtUnfSF</td>\n",
       "      <td>11203.123351</td>\n",
       "    </tr>\n",
       "    <tr>\n",
       "      <td>4</td>\n",
       "      <td>BsmtFinSF1</td>\n",
       "      <td>12186.380613</td>\n",
       "    </tr>\n",
       "    <tr>\n",
       "      <td>1</td>\n",
       "      <td>2ndFlrSF</td>\n",
       "      <td>34465.765232</td>\n",
       "    </tr>\n",
       "    <tr>\n",
       "      <td>0</td>\n",
       "      <td>1stFlrSF</td>\n",
       "      <td>44808.255274</td>\n",
       "    </tr>\n",
       "  </tbody>\n",
       "</table>\n",
       "<p>251 rows × 2 columns</p>\n",
       "</div>"
      ],
      "text/plain": [
       "                 0             1\n",
       "17    KitchenAbvGr -10853.557275\n",
       "15       GrLivArea  -7902.338000\n",
       "3     BedroomAbvGr  -7450.047762\n",
       "9    EnclosedPorch  -5873.875496\n",
       "222      PoolQC_Gd  -4880.172726\n",
       "..             ...           ...\n",
       "12      GarageArea   7991.038279\n",
       "8        BsmtUnfSF  11203.123351\n",
       "4       BsmtFinSF1  12186.380613\n",
       "1         2ndFlrSF  34465.765232\n",
       "0         1stFlrSF  44808.255274\n",
       "\n",
       "[251 rows x 2 columns]"
      ]
     },
     "execution_count": 21,
     "metadata": {},
     "output_type": "execute_result"
    }
   ],
   "source": [
    "from sklearn.linear_model import Lasso\n",
    "lasso = Lasso(alpha = 1)\n",
    "lasso.fit(X_pf_scaled, y)\n",
    "y_pred = lasso.predict(X_pf_scaled)\n",
    "pd.DataFrame(zip(X.columns, lasso.coef_)).sort_values(by=1)"
   ]
  },
  {
   "cell_type": "code",
   "execution_count": 31,
   "metadata": {},
   "outputs": [
    {
     "data": {
      "text/html": [
       "<div>\n",
       "<style scoped>\n",
       "    .dataframe tbody tr th:only-of-type {\n",
       "        vertical-align: middle;\n",
       "    }\n",
       "\n",
       "    .dataframe tbody tr th {\n",
       "        vertical-align: top;\n",
       "    }\n",
       "\n",
       "    .dataframe thead th {\n",
       "        text-align: right;\n",
       "    }\n",
       "</style>\n",
       "<table border=\"1\" class=\"dataframe\">\n",
       "  <thead>\n",
       "    <tr style=\"text-align: right;\">\n",
       "      <th></th>\n",
       "      <th>count</th>\n",
       "      <th>mean</th>\n",
       "      <th>std</th>\n",
       "      <th>min</th>\n",
       "      <th>25%</th>\n",
       "      <th>50%</th>\n",
       "      <th>75%</th>\n",
       "      <th>max</th>\n",
       "    </tr>\n",
       "  </thead>\n",
       "  <tbody>\n",
       "    <tr>\n",
       "      <td>0</td>\n",
       "      <td>31877.0</td>\n",
       "      <td>2.614958</td>\n",
       "      <td>432.020846</td>\n",
       "      <td>-10853.557275</td>\n",
       "      <td>0.0</td>\n",
       "      <td>-0.0</td>\n",
       "      <td>0.0</td>\n",
       "      <td>44808.255274</td>\n",
       "    </tr>\n",
       "  </tbody>\n",
       "</table>\n",
       "</div>"
      ],
      "text/plain": [
       "     count      mean         std           min  25%  50%  75%           max\n",
       "0  31877.0  2.614958  432.020846 -10853.557275  0.0 -0.0  0.0  44808.255274"
      ]
     },
     "execution_count": 31,
     "metadata": {},
     "output_type": "execute_result"
    }
   ],
   "source": [
    "pd.DataFrame(lasso.coef_).describe().transpose()"
   ]
  },
  {
   "cell_type": "code",
   "execution_count": 22,
   "metadata": {},
   "outputs": [
    {
     "name": "stdout",
     "output_type": "stream",
     "text": [
      "Sum of coefficients: 1853098.2120321642\n",
      "Total number of coefficients: 31877\n",
      "Number of coefficients not equal to 0: 5198\n",
      "Lasso R2 for alpha = 1 is: 0.999977381920978\n"
     ]
    }
   ],
   "source": [
    "# From the below we observe that a large number of coefficients have been zeroed out.\n",
    "\n",
    "print('Sum of coefficients:', abs(lasso.coef_).sum())\n",
    "print('Total number of coefficients:', len(lasso.coef_))\n",
    "print('Number of coefficients not equal to 0:', (lasso.coef_!=0).sum())\n",
    "print('Lasso R2 for alpha = 1 is:', r2_score(y, y_pred))"
   ]
  },
  {
   "cell_type": "code",
   "execution_count": 33,
   "metadata": {},
   "outputs": [
    {
     "data": {
      "image/png": "[encoded data removed]",
      "text/plain": [
       "<Figure size 576x432 with 1 Axes>"
      ]
     },
     "metadata": {
      "needs_background": "light"
     },
     "output_type": "display_data"
    }
   ],
   "source": [
    "f = plt.figure(figsize=(8,6))\n",
    "ax = plt.axes()\n",
    "ax.plot(y, y_pred, marker='o', ls='', ms=3.0)\n",
    "lim = (0, y.max())\n",
    "ax.set(xlabel='Actual Sales Price', \n",
    "       ylabel='Predicted Sales Price', \n",
    "       xlim=lim,\n",
    "       ylim=lim,\n",
    "       title='LASSO (alpha = 1) Results');"
   ]
  },
  {
   "cell_type": "code",
   "execution_count": 37,
   "metadata": {},
   "outputs": [
    {
     "data": {
      "text/html": [
       "<div>\n",
       "<style scoped>\n",
       "    .dataframe tbody tr th:only-of-type {\n",
       "        vertical-align: middle;\n",
       "    }\n",
       "\n",
       "    .dataframe tbody tr th {\n",
       "        vertical-align: top;\n",
       "    }\n",
       "\n",
       "    .dataframe thead th {\n",
       "        text-align: right;\n",
       "    }\n",
       "</style>\n",
       "<table border=\"1\" class=\"dataframe\">\n",
       "  <thead>\n",
       "    <tr style=\"text-align: right;\">\n",
       "      <th></th>\n",
       "      <th>0</th>\n",
       "      <th>1</th>\n",
       "    </tr>\n",
       "  </thead>\n",
       "  <tbody>\n",
       "    <tr>\n",
       "      <td>17</td>\n",
       "      <td>KitchenAbvGr</td>\n",
       "      <td>-11671.168388</td>\n",
       "    </tr>\n",
       "    <tr>\n",
       "      <td>15</td>\n",
       "      <td>GrLivArea</td>\n",
       "      <td>-10096.826682</td>\n",
       "    </tr>\n",
       "    <tr>\n",
       "      <td>3</td>\n",
       "      <td>BedroomAbvGr</td>\n",
       "      <td>-9554.946462</td>\n",
       "    </tr>\n",
       "    <tr>\n",
       "      <td>31</td>\n",
       "      <td>TotalBsmtSF</td>\n",
       "      <td>-6980.748401</td>\n",
       "    </tr>\n",
       "    <tr>\n",
       "      <td>9</td>\n",
       "      <td>EnclosedPorch</td>\n",
       "      <td>-6956.716021</td>\n",
       "    </tr>\n",
       "    <tr>\n",
       "      <td>...</td>\n",
       "      <td>...</td>\n",
       "      <td>...</td>\n",
       "    </tr>\n",
       "    <tr>\n",
       "      <td>11</td>\n",
       "      <td>FullBath</td>\n",
       "      <td>8696.505723</td>\n",
       "    </tr>\n",
       "    <tr>\n",
       "      <td>8</td>\n",
       "      <td>BsmtUnfSF</td>\n",
       "      <td>11224.211950</td>\n",
       "    </tr>\n",
       "    <tr>\n",
       "      <td>4</td>\n",
       "      <td>BsmtFinSF1</td>\n",
       "      <td>12974.595184</td>\n",
       "    </tr>\n",
       "    <tr>\n",
       "      <td>1</td>\n",
       "      <td>2ndFlrSF</td>\n",
       "      <td>35814.384035</td>\n",
       "    </tr>\n",
       "    <tr>\n",
       "      <td>0</td>\n",
       "      <td>1stFlrSF</td>\n",
       "      <td>47589.344310</td>\n",
       "    </tr>\n",
       "  </tbody>\n",
       "</table>\n",
       "<p>251 rows × 2 columns</p>\n",
       "</div>"
      ],
      "text/plain": [
       "                0             1\n",
       "17   KitchenAbvGr -11671.168388\n",
       "15      GrLivArea -10096.826682\n",
       "3    BedroomAbvGr  -9554.946462\n",
       "31    TotalBsmtSF  -6980.748401\n",
       "9   EnclosedPorch  -6956.716021\n",
       "..            ...           ...\n",
       "11       FullBath   8696.505723\n",
       "8       BsmtUnfSF  11224.211950\n",
       "4      BsmtFinSF1  12974.595184\n",
       "1        2ndFlrSF  35814.384035\n",
       "0        1stFlrSF  47589.344310\n",
       "\n",
       "[251 rows x 2 columns]"
      ]
     },
     "execution_count": 37,
     "metadata": {},
     "output_type": "execute_result"
    }
   ],
   "source": [
    "# Lasso for alpha = 0.01\n",
    "\n",
    "lasso01 = Lasso(alpha = 0.01)\n",
    "lasso01.fit(X_pf_scaled, y)\n",
    "y_pred = lasso01.predict(X_pf_scaled)\n",
    "pd.DataFrame(zip(X.columns, lasso01.coef_)).sort_values(by=1)"
   ]
  },
  {
   "cell_type": "code",
   "execution_count": 35,
   "metadata": {},
   "outputs": [
    {
     "name": "stdout",
     "output_type": "stream",
     "text": [
      "Sum of coefficients: 4142793.33288558\n",
      "Total number of coefficients: 31877\n",
      "Number of coefficients not equal to 0: 19980\n",
      "Lasso R2 for alpha = 0.01 is: 0.9999650095628029\n"
     ]
    }
   ],
   "source": [
    "# From the below we observe that a much smaller number of coefficients have been \n",
    "# zeroed out in comparison to Lasso with alpha = 1\n",
    "\n",
    "print('Sum of coefficients:', abs(lasso01.coef_).sum())\n",
    "print('Total number of coefficients:', len(lasso01.coef_))\n",
    "print('Number of coefficients not equal to 0:', (lasso01.coef_!=0).sum())\n",
    "print('Lasso R2 for alpha = 0.01 is:', r2_score(y, y_pred))"
   ]
  },
  {
   "cell_type": "code",
   "execution_count": 36,
   "metadata": {},
   "outputs": [
    {
     "data": {
      "image/png": "[encoded data removed]",
      "text/plain": [
       "<Figure size 576x432 with 1 Axes>"
      ]
     },
     "metadata": {
      "needs_background": "light"
     },
     "output_type": "display_data"
    }
   ],
   "source": [
    "f = plt.figure(figsize=(8,6))\n",
    "ax = plt.axes()\n",
    "ax.plot(y, y_pred, marker='o', ls='', ms=3.0)\n",
    "lim = (0, y.max())\n",
    "ax.set(xlabel='Actual Sales Price', \n",
    "       ylabel='Predicted Sales Price', \n",
    "       xlim=lim,\n",
    "       ylim=lim,\n",
    "       title='LASSO (alpha = 0.01) Results');"
   ]
  },
  {
   "cell_type": "markdown",
   "metadata": {},
   "source": [
    "With more regularization (higher alpha) we will expect the penalty for higher weights to be greater and thus the coefficients to be pushed down. Thus a higher alpha means lower magnitude with more coefficients pushed down to 0."
   ]
  },
  {
   "cell_type": "markdown",
   "metadata": {},
   "source": [
    "# Splitting the dataset into the training set and test set"
   ]
  },
  {
   "cell_type": "code",
   "execution_count": 38,
   "metadata": {},
   "outputs": [],
   "source": [
    "from sklearn.model_selection import train_test_split\n",
    "X_train, X_test, y_train, y_test = train_test_split(X_pf, y, test_size = 0.3, random_state = 0)"
   ]
  },
  {
   "cell_type": "markdown",
   "metadata": {},
   "source": [
    "# Feature Scaling"
   ]
  },
  {
   "cell_type": "code",
   "execution_count": 39,
   "metadata": {},
   "outputs": [],
   "source": [
    "sc_X = StandardScaler()\n",
    "X_train = sc_X.fit_transform(X_train)\n",
    "X_test = sc_X.transform(X_test)"
   ]
  },
  {
   "cell_type": "markdown",
   "metadata": {},
   "source": [
    "# Calculating the $R^{2}$"
   ]
  },
  {
   "cell_type": "code",
   "execution_count": 40,
   "metadata": {},
   "outputs": [],
   "source": [
    "from sklearn.metrics import r2_score"
   ]
  },
  {
   "cell_type": "code",
   "execution_count": 41,
   "metadata": {},
   "outputs": [
    {
     "name": "stdout",
     "output_type": "stream",
     "text": [
      "Sum of coefficients: 1510404.3594291694\n",
      "Total number of coefficients: 31877\n",
      "Number of coefficients not equal to 0: 4348\n",
      "Lasso R2 for alpha = 1 is: 0.5334352932323387\n"
     ]
    }
   ],
   "source": [
    "# Lasso (alpha = 1) Regression\n",
    "\n",
    "lasso = Lasso(alpha = 1)\n",
    "lasso.fit(X_train, y_train)\n",
    "y_pred_lasso = lasso.predict(X_test)\n",
    "\n",
    "print('Sum of coefficients:', abs(lasso.coef_).sum())\n",
    "print('Total number of coefficients:', len(lasso.coef_))\n",
    "print('Number of coefficients not equal to 0:', (lasso.coef_!=0).sum())\n",
    "print('Lasso R2 for alpha = 1 is:', r2_score(y_test, y_pred_lasso))"
   ]
  },
  {
   "cell_type": "code",
   "execution_count": 42,
   "metadata": {},
   "outputs": [
    {
     "data": {
      "image/png": "[encoded data removed]",
      "text/plain": [
       "<Figure size 576x432 with 1 Axes>"
      ]
     },
     "metadata": {
      "needs_background": "light"
     },
     "output_type": "display_data"
    }
   ],
   "source": [
    "f = plt.figure(figsize=(8,6))\n",
    "ax = plt.axes()\n",
    "ax.plot(y_test, y_pred_lasso, marker='o', ls='', ms=3.0)\n",
    "lim = (0, y.max())\n",
    "ax.set(xlabel='Actual Sales Price', \n",
    "       ylabel='Predicted Sales Price', \n",
    "       xlim=lim,\n",
    "       ylim=lim,\n",
    "       title='LASSO (alpha = 1) Results');"
   ]
  },
  {
   "cell_type": "code",
   "execution_count": 43,
   "metadata": {},
   "outputs": [
    {
     "name": "stdout",
     "output_type": "stream",
     "text": [
      "Sum of coefficients: 3525350.5082896915\n",
      "Total number of coefficients: 31877\n",
      "Number of coefficients not equal to 0: 18728\n",
      "Lasso R2 for alpha = 0.01 is: 0.38713020386395114\n"
     ]
    }
   ],
   "source": [
    "# Lasso (alpha = 0.01) Regression\n",
    "\n",
    "lasso01 = Lasso(alpha = 0.01)\n",
    "lasso01.fit(X_train, y_train)\n",
    "y_pred_lasso01 = lasso01.predict(X_test)\n",
    "\n",
    "print('Sum of coefficients:', abs(lasso01.coef_).sum())\n",
    "print('Total number of coefficients:', len(lasso01.coef_))\n",
    "print('Number of coefficients not equal to 0:', (lasso01.coef_!=0).sum())\n",
    "print('Lasso R2 for alpha = 0.01 is:', r2_score(y_test, y_pred_lasso01))"
   ]
  },
  {
   "cell_type": "code",
   "execution_count": 44,
   "metadata": {},
   "outputs": [
    {
     "data": {
      "image/png": "[encoded data removed]",
      "text/plain": [
       "<Figure size 576x432 with 1 Axes>"
      ]
     },
     "metadata": {
      "needs_background": "light"
     },
     "output_type": "display_data"
    }
   ],
   "source": [
    "f = plt.figure(figsize=(8,6))\n",
    "ax = plt.axes()\n",
    "ax.plot(y_test, y_pred_lasso01, marker='o', ls='', ms=3.0)\n",
    "lim = (0, y.max())\n",
    "ax.set(xlabel='Actual Sales Price', \n",
    "       ylabel='Predicted Sales Price', \n",
    "       xlim=lim,\n",
    "       ylim=lim,\n",
    "       title='LASSO (alpha = 0.01) Results');"
   ]
  },
  {
   "cell_type": "markdown",
   "metadata": {},
   "source": [
    "# Optimum alpha"
   ]
  },
  {
   "cell_type": "code",
   "execution_count": 45,
   "metadata": {},
   "outputs": [
    {
     "name": "stdout",
     "output_type": "stream",
     "text": [
      "240\n"
     ]
    }
   ],
   "source": [
    "from sklearn.linear_model import LassoCV\n",
    "\n",
    "alphas2 = np.array([160, 180, 200, 220, 240])\n",
    "lassoCV = LassoCV(alphas=alphas2, max_iter=5e4, cv=4).fit(X_train, y_train)\n",
    "print(lassoCV.alpha_)"
   ]
  },
  {
   "cell_type": "code",
   "execution_count": 46,
   "metadata": {},
   "outputs": [
    {
     "name": "stdout",
     "output_type": "stream",
     "text": [
      "Sum of coefficients: 368406.0279454886\n",
      "Total number of coefficients: 31877\n",
      "Number of coefficients not equal to 0: 841\n",
      "Lasso R2 for alpha = 240 is: 0.844101270644865\n"
     ]
    }
   ],
   "source": [
    "# Lasso (alpha = 240) Regression\n",
    "\n",
    "lasso240 = Lasso(alpha = 240)\n",
    "lasso240.fit(X_train, y_train)\n",
    "y_pred_lasso240 = lasso240.predict(X_test)\n",
    "\n",
    "print('Sum of coefficients:', abs(lasso240.coef_).sum())\n",
    "print('Total number of coefficients:', len(lasso240.coef_))\n",
    "print('Number of coefficients not equal to 0:', (lasso240.coef_!=0).sum())\n",
    "print('Lasso R2 for alpha = 240 is:', r2_score(y_test, y_pred_lasso240))"
   ]
  },
  {
   "cell_type": "code",
   "execution_count": 47,
   "metadata": {},
   "outputs": [
    {
     "data": {
      "image/png": "[encoded data removed]",
      "text/plain": [
       "<Figure size 576x432 with 1 Axes>"
      ]
     },
     "metadata": {
      "needs_background": "light"
     },
     "output_type": "display_data"
    }
   ],
   "source": [
    "f = plt.figure(figsize=(8,6))\n",
    "ax = plt.axes()\n",
    "ax.plot(y_test, y_pred_lasso240, marker='o', ls='', ms=3.0)\n",
    "lim = (0, y.max())\n",
    "ax.set(xlabel='Actual Sales Price', \n",
    "       ylabel='Predicted Sales Price', \n",
    "       xlim=lim,\n",
    "       ylim=lim,\n",
    "       title='LASSO (alpha = 240) Results');"
   ]
  },
  {
   "cell_type": "markdown",
   "metadata": {},
   "source": [
    "# L1 vs. L2 Regularization\n",
    "As mentioned in the deck: `Lasso` and `Ridge` regression have the same syntax in SciKit Learn.\n",
    "\n",
    "Now we're going to compare the results from Ridge vs. Lasso regression:"
   ]
  },
  {
   "cell_type": "code",
   "execution_count": 53,
   "metadata": {},
   "outputs": [
    {
     "name": "stdout",
     "output_type": "stream",
     "text": [
      "Sum of coefficients: 1653692.182882933\n",
      "Total number of coefficients: 31877\n",
      "Number of coefficients not equal to 0: 19638\n",
      "Ridge R2 for alpha = 0.01 is: 0.744802099960274\n"
     ]
    }
   ],
   "source": [
    "# Ridge with alpha = 0.01\n",
    "\n",
    "from sklearn.linear_model import Ridge\n",
    "\n",
    "rr = Ridge(alpha = 0.01)\n",
    "rr.fit(X_train, y_train)\n",
    "y_pred = rr.predict(X_test)\n",
    "\n",
    "print('Sum of coefficients:', abs(rr.coef_).sum())\n",
    "print('Total number of coefficients:', len(rr.coef_))\n",
    "print('Number of coefficients not equal to 0:', (rr.coef_!=0).sum())\n",
    "print('Ridge R2 for alpha = 0.01 is:', r2_score(y_test, y_pred))"
   ]
  },
  {
   "cell_type": "code",
   "execution_count": 54,
   "metadata": {},
   "outputs": [
    {
     "data": {
      "text/html": [
       "<div>\n",
       "<style scoped>\n",
       "    .dataframe tbody tr th:only-of-type {\n",
       "        vertical-align: middle;\n",
       "    }\n",
       "\n",
       "    .dataframe tbody tr th {\n",
       "        vertical-align: top;\n",
       "    }\n",
       "\n",
       "    .dataframe thead th {\n",
       "        text-align: right;\n",
       "    }\n",
       "</style>\n",
       "<table border=\"1\" class=\"dataframe\">\n",
       "  <thead>\n",
       "    <tr style=\"text-align: right;\">\n",
       "      <th></th>\n",
       "      <th>0</th>\n",
       "      <th>1</th>\n",
       "    </tr>\n",
       "  </thead>\n",
       "  <tbody>\n",
       "    <tr>\n",
       "      <td>35</td>\n",
       "      <td>YrSold</td>\n",
       "      <td>-973.891972</td>\n",
       "    </tr>\n",
       "    <tr>\n",
       "      <td>222</td>\n",
       "      <td>PoolQC_Gd</td>\n",
       "      <td>-203.107150</td>\n",
       "    </tr>\n",
       "    <tr>\n",
       "      <td>170</td>\n",
       "      <td>KitchenQual_Gd</td>\n",
       "      <td>-130.812094</td>\n",
       "    </tr>\n",
       "    <tr>\n",
       "      <td>16</td>\n",
       "      <td>HalfBath</td>\n",
       "      <td>-123.168535</td>\n",
       "    </tr>\n",
       "    <tr>\n",
       "      <td>17</td>\n",
       "      <td>KitchenAbvGr</td>\n",
       "      <td>-112.560256</td>\n",
       "    </tr>\n",
       "    <tr>\n",
       "      <td>...</td>\n",
       "      <td>...</td>\n",
       "      <td>...</td>\n",
       "    </tr>\n",
       "    <tr>\n",
       "      <td>0</td>\n",
       "      <td>1stFlrSF</td>\n",
       "      <td>315.903990</td>\n",
       "    </tr>\n",
       "    <tr>\n",
       "      <td>27</td>\n",
       "      <td>OverallQual</td>\n",
       "      <td>343.637940</td>\n",
       "    </tr>\n",
       "    <tr>\n",
       "      <td>34</td>\n",
       "      <td>YearRemodAdd</td>\n",
       "      <td>344.800558</td>\n",
       "    </tr>\n",
       "    <tr>\n",
       "      <td>33</td>\n",
       "      <td>YearBuilt</td>\n",
       "      <td>351.253869</td>\n",
       "    </tr>\n",
       "    <tr>\n",
       "      <td>15</td>\n",
       "      <td>GrLivArea</td>\n",
       "      <td>364.769793</td>\n",
       "    </tr>\n",
       "  </tbody>\n",
       "</table>\n",
       "<p>251 rows × 2 columns</p>\n",
       "</div>"
      ],
      "text/plain": [
       "                  0           1\n",
       "35           YrSold -973.891972\n",
       "222       PoolQC_Gd -203.107150\n",
       "170  KitchenQual_Gd -130.812094\n",
       "16         HalfBath -123.168535\n",
       "17     KitchenAbvGr -112.560256\n",
       "..              ...         ...\n",
       "0          1stFlrSF  315.903990\n",
       "27      OverallQual  343.637940\n",
       "34     YearRemodAdd  344.800558\n",
       "33        YearBuilt  351.253869\n",
       "15        GrLivArea  364.769793\n",
       "\n",
       "[251 rows x 2 columns]"
      ]
     },
     "execution_count": 54,
     "metadata": {},
     "output_type": "execute_result"
    }
   ],
   "source": [
    "pd.DataFrame(zip(X.columns, rr.coef_)).sort_values(by=1)"
   ]
  },
  {
   "cell_type": "code",
   "execution_count": 55,
   "metadata": {},
   "outputs": [
    {
     "data": {
      "image/png": "[encoded data removed]",
      "text/plain": [
       "<Figure size 576x432 with 1 Axes>"
      ]
     },
     "metadata": {
      "needs_background": "light"
     },
     "output_type": "display_data"
    }
   ],
   "source": [
    "f = plt.figure(figsize=(8,6))\n",
    "ax = plt.axes()\n",
    "ax.plot(y_test, y_pred, marker='o', ls='', ms=3.0)\n",
    "lim = (0, y.max())\n",
    "ax.set(xlabel='Actual Sales Price', \n",
    "       ylabel='Predicted Sales Price', \n",
    "       xlim=lim,\n",
    "       ylim=lim,\n",
    "       title='Ridge (alpha = 0.01) Results');"
   ]
  },
  {
   "cell_type": "code",
   "execution_count": 56,
   "metadata": {},
   "outputs": [
    {
     "name": "stdout",
     "output_type": "stream",
     "text": [
      "Sum of coefficients: 1576204.7309504985\n",
      "Total number of coefficients: 31877\n",
      "Number of coefficients not equal to 0: 19638\n",
      "Ridge R2 for alpha = 1 is: 0.7588244202226753\n"
     ]
    }
   ],
   "source": [
    "# Ridge with alpha = 1\n",
    "\n",
    "from sklearn.linear_model import Ridge\n",
    "\n",
    "rr = Ridge(alpha = 1)\n",
    "rr.fit(X_train, y_train)\n",
    "y_pred = rr.predict(X_test)\n",
    "\n",
    "print('Sum of coefficients:', abs(rr.coef_).sum())\n",
    "print('Total number of coefficients:', len(rr.coef_))\n",
    "print('Number of coefficients not equal to 0:', (rr.coef_!=0).sum())\n",
    "print('Ridge R2 for alpha = 1 is:', r2_score(y_test, y_pred))"
   ]
  },
  {
   "cell_type": "code",
   "execution_count": 57,
   "metadata": {},
   "outputs": [
    {
     "data": {
      "text/html": [
       "<div>\n",
       "<style scoped>\n",
       "    .dataframe tbody tr th:only-of-type {\n",
       "        vertical-align: middle;\n",
       "    }\n",
       "\n",
       "    .dataframe tbody tr th {\n",
       "        vertical-align: top;\n",
       "    }\n",
       "\n",
       "    .dataframe thead th {\n",
       "        text-align: right;\n",
       "    }\n",
       "</style>\n",
       "<table border=\"1\" class=\"dataframe\">\n",
       "  <thead>\n",
       "    <tr style=\"text-align: right;\">\n",
       "      <th></th>\n",
       "      <th>0</th>\n",
       "      <th>1</th>\n",
       "    </tr>\n",
       "  </thead>\n",
       "  <tbody>\n",
       "    <tr>\n",
       "      <td>35</td>\n",
       "      <td>YrSold</td>\n",
       "      <td>-608.356685</td>\n",
       "    </tr>\n",
       "    <tr>\n",
       "      <td>222</td>\n",
       "      <td>PoolQC_Gd</td>\n",
       "      <td>-203.441379</td>\n",
       "    </tr>\n",
       "    <tr>\n",
       "      <td>170</td>\n",
       "      <td>KitchenQual_Gd</td>\n",
       "      <td>-129.765402</td>\n",
       "    </tr>\n",
       "    <tr>\n",
       "      <td>17</td>\n",
       "      <td>KitchenAbvGr</td>\n",
       "      <td>-113.108723</td>\n",
       "    </tr>\n",
       "    <tr>\n",
       "      <td>61</td>\n",
       "      <td>BsmtQual_Gd</td>\n",
       "      <td>-106.933447</td>\n",
       "    </tr>\n",
       "    <tr>\n",
       "      <td>...</td>\n",
       "      <td>...</td>\n",
       "      <td>...</td>\n",
       "    </tr>\n",
       "    <tr>\n",
       "      <td>27</td>\n",
       "      <td>OverallQual</td>\n",
       "      <td>295.577809</td>\n",
       "    </tr>\n",
       "    <tr>\n",
       "      <td>0</td>\n",
       "      <td>1stFlrSF</td>\n",
       "      <td>304.433071</td>\n",
       "    </tr>\n",
       "    <tr>\n",
       "      <td>33</td>\n",
       "      <td>YearBuilt</td>\n",
       "      <td>350.711995</td>\n",
       "    </tr>\n",
       "    <tr>\n",
       "      <td>15</td>\n",
       "      <td>GrLivArea</td>\n",
       "      <td>363.586329</td>\n",
       "    </tr>\n",
       "    <tr>\n",
       "      <td>34</td>\n",
       "      <td>YearRemodAdd</td>\n",
       "      <td>377.039560</td>\n",
       "    </tr>\n",
       "  </tbody>\n",
       "</table>\n",
       "<p>251 rows × 2 columns</p>\n",
       "</div>"
      ],
      "text/plain": [
       "                  0           1\n",
       "35           YrSold -608.356685\n",
       "222       PoolQC_Gd -203.441379\n",
       "170  KitchenQual_Gd -129.765402\n",
       "17     KitchenAbvGr -113.108723\n",
       "61      BsmtQual_Gd -106.933447\n",
       "..              ...         ...\n",
       "27      OverallQual  295.577809\n",
       "0          1stFlrSF  304.433071\n",
       "33        YearBuilt  350.711995\n",
       "15        GrLivArea  363.586329\n",
       "34     YearRemodAdd  377.039560\n",
       "\n",
       "[251 rows x 2 columns]"
      ]
     },
     "execution_count": 57,
     "metadata": {},
     "output_type": "execute_result"
    }
   ],
   "source": [
    "pd.DataFrame(zip(X.columns, rr.coef_)).sort_values(by=1)"
   ]
  },
  {
   "cell_type": "code",
   "execution_count": 58,
   "metadata": {},
   "outputs": [
    {
     "data": {
      "image/png": "[encoded data removed]",
      "text/plain": [
       "<Figure size 576x432 with 1 Axes>"
      ]
     },
     "metadata": {
      "needs_background": "light"
     },
     "output_type": "display_data"
    }
   ],
   "source": [
    "f = plt.figure(figsize=(8,6))\n",
    "ax = plt.axes()\n",
    "ax.plot(y_test, y_pred, marker='o', ls='', ms=3.0)\n",
    "lim = (0, y.max())\n",
    "ax.set(xlabel='Actual Sales Price', \n",
    "       ylabel='Predicted Sales Price', \n",
    "       xlim=lim,\n",
    "       ylim=lim,\n",
    "       title='Ridge (alpha = 1) Results');"
   ]
  },
  {
   "cell_type": "markdown",
   "metadata": {},
   "source": [
    "# Optimum alpha"
   ]
  },
  {
   "cell_type": "code",
   "execution_count": 59,
   "metadata": {},
   "outputs": [
    {
     "name": "stdout",
     "output_type": "stream",
     "text": [
      "180\n"
     ]
    }
   ],
   "source": [
    "from sklearn.linear_model import RidgeCV\n",
    "\n",
    "alphas = [140, 160, 180]\n",
    "ridgeCV = RidgeCV(alphas=alphas, cv=4).fit(X_train, y_train)\n",
    "print(ridgeCV.alpha_)"
   ]
  },
  {
   "cell_type": "code",
   "execution_count": 60,
   "metadata": {},
   "outputs": [
    {
     "name": "stdout",
     "output_type": "stream",
     "text": [
      "Sum of coefficients: 1049905.052453129\n",
      "Total number of coefficients: 31877\n",
      "Number of coefficients not equal to 0: 19638\n",
      "Ridge R2 for alpha = 180 is: 0.8153834664576644\n"
     ]
    }
   ],
   "source": [
    "# Ridge with alpha = 180\n",
    "\n",
    "rr = Ridge(alpha = 180)\n",
    "rr.fit(X_train, y_train)\n",
    "y_pred = rr.predict(X_test)\n",
    "\n",
    "print('Sum of coefficients:', abs(rr.coef_).sum())\n",
    "print('Total number of coefficients:', len(rr.coef_))\n",
    "print('Number of coefficients not equal to 0:', (rr.coef_!=0).sum())\n",
    "print('Ridge R2 for alpha = 180 is:', r2_score(y_test, y_pred))"
   ]
  },
  {
   "cell_type": "code",
   "execution_count": 61,
   "metadata": {},
   "outputs": [
    {
     "data": {
      "image/png": "[encoded data removed]",
      "text/plain": [
       "<Figure size 576x432 with 1 Axes>"
      ]
     },
     "metadata": {
      "needs_background": "light"
     },
     "output_type": "display_data"
    }
   ],
   "source": [
    "f = plt.figure(figsize=(8,6))\n",
    "ax = plt.axes()\n",
    "ax.plot(y_test, y_pred, marker='o', ls='', ms=3.0)\n",
    "lim = (0, y.max())\n",
    "ax.set(xlabel='Actual Sales Price', \n",
    "       ylabel='Predicted Sales Price', \n",
    "       xlim=lim,\n",
    "       ylim=lim,\n",
    "       title='Ridge (alpha = 180) Results');"
   ]
  },
  {
   "cell_type": "markdown",
   "metadata": {},
   "source": [
    "## Conclusion\n",
    "\n",
    "From our analysis we conclude that the most appropriate model for our dataset is the Ridge regression with a higher penalty parameter alpha. This is based on the better R2 score in comparison to LASSO. However, if feature selection is of priority, then LASSO with higher penalty parameter alpha should be used.\n",
    "\n",
    "## Further Steps:\n",
    "\n",
    "As an extension to the data analysis, we may have the below as new objectives:\n",
    "\n",
    "- Perform Grid Search CV to achieve further parameter tuning.\n",
    "- Produce models using alternative regression techniques such as:\n",
    "    - Support Vector Machine (Linear, Polynomial, Gaussian RBF kernels)\n",
    "    - Random Forest Regression\n",
    "    - XG Boost\n",
    "- Gather more data as time goes on for further model performance analysis.\n",
    "- Using Principal Component Analysis for feature selection and explain the variance ratio\n",
    "i.e. relevance of each feature for a simpler model."
   ]
  }
 ],
 "metadata": {
  "kernelspec": {
   "display_name": "Python 3",
   "language": "python",
   "name": "python3"
  },
  "language_info": {
   "codemirror_mode": {
    "name": "ipython",
    "version": 3
   },
   "file_extension": ".py",
   "mimetype": "text/x-python",
   "name": "python",
   "nbconvert_exporter": "python",
   "pygments_lexer": "ipython3",
   "version": "3.7.1"
  }
 },
 "nbformat": 4,
 "nbformat_minor": 2
}
